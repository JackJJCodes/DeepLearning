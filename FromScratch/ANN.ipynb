{
 "cells": [
  {
   "cell_type": "markdown",
   "metadata": {},
   "source": [
    "### Implementation of Artificial Neural Network\n"
   ]
  },
  {
   "cell_type": "markdown",
   "metadata": {},
   "source": [
    "### Part-1\n",
    "This part will contain the basic data pre-processing and scaling the features."
   ]
  },
  {
   "cell_type": "code",
   "execution_count": 1,
   "metadata": {},
   "outputs": [],
   "source": [
    "import numpy as np\n",
    "import matplotlib.pyplot as plt\n",
    "import pandas as pd"
   ]
  },
  {
   "cell_type": "code",
   "execution_count": 2,
   "metadata": {},
   "outputs": [],
   "source": [
    "dataset = pd.read_csv('Churn_Modelling.csv')"
   ]
  },
  {
   "cell_type": "code",
   "execution_count": 3,
   "metadata": {},
   "outputs": [
    {
     "data": {
      "text/html": [
       "<div>\n",
       "<style scoped>\n",
       "    .dataframe tbody tr th:only-of-type {\n",
       "        vertical-align: middle;\n",
       "    }\n",
       "\n",
       "    .dataframe tbody tr th {\n",
       "        vertical-align: top;\n",
       "    }\n",
       "\n",
       "    .dataframe thead th {\n",
       "        text-align: right;\n",
       "    }\n",
       "</style>\n",
       "<table border=\"1\" class=\"dataframe\">\n",
       "  <thead>\n",
       "    <tr style=\"text-align: right;\">\n",
       "      <th></th>\n",
       "      <th>RowNumber</th>\n",
       "      <th>CustomerId</th>\n",
       "      <th>Surname</th>\n",
       "      <th>CreditScore</th>\n",
       "      <th>Geography</th>\n",
       "      <th>Gender</th>\n",
       "      <th>Age</th>\n",
       "      <th>Tenure</th>\n",
       "      <th>Balance</th>\n",
       "      <th>NumOfProducts</th>\n",
       "      <th>HasCrCard</th>\n",
       "      <th>IsActiveMember</th>\n",
       "      <th>EstimatedSalary</th>\n",
       "      <th>Exited</th>\n",
       "    </tr>\n",
       "  </thead>\n",
       "  <tbody>\n",
       "    <tr>\n",
       "      <th>0</th>\n",
       "      <td>1</td>\n",
       "      <td>15634602</td>\n",
       "      <td>Hargrave</td>\n",
       "      <td>619</td>\n",
       "      <td>France</td>\n",
       "      <td>Female</td>\n",
       "      <td>42</td>\n",
       "      <td>2</td>\n",
       "      <td>0.00</td>\n",
       "      <td>1</td>\n",
       "      <td>1</td>\n",
       "      <td>1</td>\n",
       "      <td>101348.88</td>\n",
       "      <td>1</td>\n",
       "    </tr>\n",
       "    <tr>\n",
       "      <th>1</th>\n",
       "      <td>2</td>\n",
       "      <td>15647311</td>\n",
       "      <td>Hill</td>\n",
       "      <td>608</td>\n",
       "      <td>Spain</td>\n",
       "      <td>Female</td>\n",
       "      <td>41</td>\n",
       "      <td>1</td>\n",
       "      <td>83807.86</td>\n",
       "      <td>1</td>\n",
       "      <td>0</td>\n",
       "      <td>1</td>\n",
       "      <td>112542.58</td>\n",
       "      <td>0</td>\n",
       "    </tr>\n",
       "    <tr>\n",
       "      <th>2</th>\n",
       "      <td>3</td>\n",
       "      <td>15619304</td>\n",
       "      <td>Onio</td>\n",
       "      <td>502</td>\n",
       "      <td>France</td>\n",
       "      <td>Female</td>\n",
       "      <td>42</td>\n",
       "      <td>8</td>\n",
       "      <td>159660.80</td>\n",
       "      <td>3</td>\n",
       "      <td>1</td>\n",
       "      <td>0</td>\n",
       "      <td>113931.57</td>\n",
       "      <td>1</td>\n",
       "    </tr>\n",
       "    <tr>\n",
       "      <th>3</th>\n",
       "      <td>4</td>\n",
       "      <td>15701354</td>\n",
       "      <td>Boni</td>\n",
       "      <td>699</td>\n",
       "      <td>France</td>\n",
       "      <td>Female</td>\n",
       "      <td>39</td>\n",
       "      <td>1</td>\n",
       "      <td>0.00</td>\n",
       "      <td>2</td>\n",
       "      <td>0</td>\n",
       "      <td>0</td>\n",
       "      <td>93826.63</td>\n",
       "      <td>0</td>\n",
       "    </tr>\n",
       "    <tr>\n",
       "      <th>4</th>\n",
       "      <td>5</td>\n",
       "      <td>15737888</td>\n",
       "      <td>Mitchell</td>\n",
       "      <td>850</td>\n",
       "      <td>Spain</td>\n",
       "      <td>Female</td>\n",
       "      <td>43</td>\n",
       "      <td>2</td>\n",
       "      <td>125510.82</td>\n",
       "      <td>1</td>\n",
       "      <td>1</td>\n",
       "      <td>1</td>\n",
       "      <td>79084.10</td>\n",
       "      <td>0</td>\n",
       "    </tr>\n",
       "  </tbody>\n",
       "</table>\n",
       "</div>"
      ],
      "text/plain": [
       "   RowNumber  CustomerId   Surname  CreditScore Geography  Gender  Age  \\\n",
       "0          1    15634602  Hargrave          619    France  Female   42   \n",
       "1          2    15647311      Hill          608     Spain  Female   41   \n",
       "2          3    15619304      Onio          502    France  Female   42   \n",
       "3          4    15701354      Boni          699    France  Female   39   \n",
       "4          5    15737888  Mitchell          850     Spain  Female   43   \n",
       "\n",
       "   Tenure    Balance  NumOfProducts  HasCrCard  IsActiveMember  \\\n",
       "0       2       0.00              1          1               1   \n",
       "1       1   83807.86              1          0               1   \n",
       "2       8  159660.80              3          1               0   \n",
       "3       1       0.00              2          0               0   \n",
       "4       2  125510.82              1          1               1   \n",
       "\n",
       "   EstimatedSalary  Exited  \n",
       "0        101348.88       1  \n",
       "1        112542.58       0  \n",
       "2        113931.57       1  \n",
       "3         93826.63       0  \n",
       "4         79084.10       0  "
      ]
     },
     "execution_count": 3,
     "metadata": {},
     "output_type": "execute_result"
    }
   ],
   "source": [
    "dataset.head()"
   ]
  },
  {
   "cell_type": "code",
   "execution_count": 4,
   "metadata": {},
   "outputs": [
    {
     "data": {
      "text/plain": [
       "(10000, 14)"
      ]
     },
     "execution_count": 4,
     "metadata": {},
     "output_type": "execute_result"
    }
   ],
   "source": [
    "dataset.shape"
   ]
  },
  {
   "cell_type": "code",
   "execution_count": 5,
   "metadata": {},
   "outputs": [
    {
     "data": {
      "text/plain": [
       "RowNumber          0\n",
       "CustomerId         0\n",
       "Surname            0\n",
       "CreditScore        0\n",
       "Geography          0\n",
       "Gender             0\n",
       "Age                0\n",
       "Tenure             0\n",
       "Balance            0\n",
       "NumOfProducts      0\n",
       "HasCrCard          0\n",
       "IsActiveMember     0\n",
       "EstimatedSalary    0\n",
       "Exited             0\n",
       "dtype: int64"
      ]
     },
     "execution_count": 5,
     "metadata": {},
     "output_type": "execute_result"
    }
   ],
   "source": [
    "# Checking for null values in the dataset.\n",
    "dataset.isna().sum()"
   ]
  },
  {
   "cell_type": "code",
   "execution_count": 6,
   "metadata": {},
   "outputs": [],
   "source": [
    "# Splitting our dataset into Features and Target datasets:\n",
    "X = dataset.iloc[:, 3:13]\n",
    "y = dataset.iloc[:, 13]"
   ]
  },
  {
   "cell_type": "code",
   "execution_count": 7,
   "metadata": {},
   "outputs": [],
   "source": [
    "# Since there are a few categorical features, we will create dummy variables for them.\n",
    "# Later, we will concatenate them, and drop the original categorical features.\n",
    "geography = pd.get_dummies(X['Geography'], drop_first=True)\n",
    "gender = pd.get_dummies(X['Gender'], drop_first=True)\n",
    "\n",
    "# Concatenating the datasets:\n",
    "X = pd.concat([X, geography, gender], axis=1)\n",
    "\n",
    "# Dropping the original categorical features\n",
    "X.drop(['Geography', 'Gender'], axis=1, inplace=True)"
   ]
  },
  {
   "cell_type": "code",
   "execution_count": 8,
   "metadata": {},
   "outputs": [
    {
     "data": {
      "text/html": [
       "<div>\n",
       "<style scoped>\n",
       "    .dataframe tbody tr th:only-of-type {\n",
       "        vertical-align: middle;\n",
       "    }\n",
       "\n",
       "    .dataframe tbody tr th {\n",
       "        vertical-align: top;\n",
       "    }\n",
       "\n",
       "    .dataframe thead th {\n",
       "        text-align: right;\n",
       "    }\n",
       "</style>\n",
       "<table border=\"1\" class=\"dataframe\">\n",
       "  <thead>\n",
       "    <tr style=\"text-align: right;\">\n",
       "      <th></th>\n",
       "      <th>CreditScore</th>\n",
       "      <th>Age</th>\n",
       "      <th>Tenure</th>\n",
       "      <th>Balance</th>\n",
       "      <th>NumOfProducts</th>\n",
       "      <th>HasCrCard</th>\n",
       "      <th>IsActiveMember</th>\n",
       "      <th>EstimatedSalary</th>\n",
       "      <th>Germany</th>\n",
       "      <th>Spain</th>\n",
       "      <th>Male</th>\n",
       "    </tr>\n",
       "  </thead>\n",
       "  <tbody>\n",
       "    <tr>\n",
       "      <th>0</th>\n",
       "      <td>619</td>\n",
       "      <td>42</td>\n",
       "      <td>2</td>\n",
       "      <td>0.00</td>\n",
       "      <td>1</td>\n",
       "      <td>1</td>\n",
       "      <td>1</td>\n",
       "      <td>101348.88</td>\n",
       "      <td>0</td>\n",
       "      <td>0</td>\n",
       "      <td>0</td>\n",
       "    </tr>\n",
       "    <tr>\n",
       "      <th>1</th>\n",
       "      <td>608</td>\n",
       "      <td>41</td>\n",
       "      <td>1</td>\n",
       "      <td>83807.86</td>\n",
       "      <td>1</td>\n",
       "      <td>0</td>\n",
       "      <td>1</td>\n",
       "      <td>112542.58</td>\n",
       "      <td>0</td>\n",
       "      <td>1</td>\n",
       "      <td>0</td>\n",
       "    </tr>\n",
       "    <tr>\n",
       "      <th>2</th>\n",
       "      <td>502</td>\n",
       "      <td>42</td>\n",
       "      <td>8</td>\n",
       "      <td>159660.80</td>\n",
       "      <td>3</td>\n",
       "      <td>1</td>\n",
       "      <td>0</td>\n",
       "      <td>113931.57</td>\n",
       "      <td>0</td>\n",
       "      <td>0</td>\n",
       "      <td>0</td>\n",
       "    </tr>\n",
       "    <tr>\n",
       "      <th>3</th>\n",
       "      <td>699</td>\n",
       "      <td>39</td>\n",
       "      <td>1</td>\n",
       "      <td>0.00</td>\n",
       "      <td>2</td>\n",
       "      <td>0</td>\n",
       "      <td>0</td>\n",
       "      <td>93826.63</td>\n",
       "      <td>0</td>\n",
       "      <td>0</td>\n",
       "      <td>0</td>\n",
       "    </tr>\n",
       "    <tr>\n",
       "      <th>4</th>\n",
       "      <td>850</td>\n",
       "      <td>43</td>\n",
       "      <td>2</td>\n",
       "      <td>125510.82</td>\n",
       "      <td>1</td>\n",
       "      <td>1</td>\n",
       "      <td>1</td>\n",
       "      <td>79084.10</td>\n",
       "      <td>0</td>\n",
       "      <td>1</td>\n",
       "      <td>0</td>\n",
       "    </tr>\n",
       "  </tbody>\n",
       "</table>\n",
       "</div>"
      ],
      "text/plain": [
       "   CreditScore  Age  Tenure    Balance  NumOfProducts  HasCrCard  \\\n",
       "0          619   42       2       0.00              1          1   \n",
       "1          608   41       1   83807.86              1          0   \n",
       "2          502   42       8  159660.80              3          1   \n",
       "3          699   39       1       0.00              2          0   \n",
       "4          850   43       2  125510.82              1          1   \n",
       "\n",
       "   IsActiveMember  EstimatedSalary  Germany  Spain  Male  \n",
       "0               1        101348.88        0      0     0  \n",
       "1               1        112542.58        0      1     0  \n",
       "2               0        113931.57        0      0     0  \n",
       "3               0         93826.63        0      0     0  \n",
       "4               1         79084.10        0      1     0  "
      ]
     },
     "execution_count": 8,
     "metadata": {},
     "output_type": "execute_result"
    }
   ],
   "source": [
    "X.head()"
   ]
  },
  {
   "cell_type": "code",
   "execution_count": 9,
   "metadata": {},
   "outputs": [
    {
     "data": {
      "text/plain": [
       "(10000, 11)"
      ]
     },
     "execution_count": 9,
     "metadata": {},
     "output_type": "execute_result"
    }
   ],
   "source": [
    "X.shape"
   ]
  },
  {
   "cell_type": "code",
   "execution_count": 10,
   "metadata": {},
   "outputs": [],
   "source": [
    "# Splitting the dataset into training and testing:\n",
    "from sklearn.model_selection import train_test_split\n",
    "X_train, X_test, y_train, y_test = train_test_split(X, y, test_size=0.2, random_state=101)"
   ]
  },
  {
   "cell_type": "code",
   "execution_count": 11,
   "metadata": {},
   "outputs": [],
   "source": [
    "# Feature Scaling: We do Feature Scaling here because it'll be easy for the device when\n",
    "# it does calculations for the Neural Network.\n",
    "from sklearn.preprocessing import StandardScaler\n",
    "scaler = StandardScaler()\n",
    "X_train = scaler.fit_transform(X_train)\n",
    "X_test = scaler.fit_transform(X_test)"
   ]
  },
  {
   "cell_type": "markdown",
   "metadata": {},
   "source": [
    "### Part-2\n",
    "This part will contain the creation of Artificial Neural Network."
   ]
  },
  {
   "cell_type": "code",
   "execution_count": 12,
   "metadata": {},
   "outputs": [],
   "source": [
    "# Importing the necessary Keras library\n",
    "import keras\n",
    "from keras.models import Sequential\n",
    "from keras.layers import Dense # Used to create the layers.\n",
    "from keras.layers import LeakyReLU, PReLU, ELU # Activation functions\n",
    "from keras.layers import Dropout # Regulization parameter: Helps to prevent overfitting."
   ]
  },
  {
   "cell_type": "code",
   "execution_count": 13,
   "metadata": {},
   "outputs": [],
   "source": [
    "# Initializing the ANN\n",
    "classifier = Sequential()"
   ]
  },
  {
   "cell_type": "code",
   "execution_count": 14,
   "metadata": {},
   "outputs": [],
   "source": [
    "# Creating the input layer and the first hidden layer:\n",
    "classifier.add(Dense(units = 6, kernel_initializer = 'he_uniform', activation = 'relu', input_dim = 11))\n",
    "# Hence, the input layer has 11 input nodes (because there are 11 features in the dataset.), and 6 hidden layer nodes.\n",
    "# With ReLu as our activation function, it's preferrable to use \"he_uniform\" with it."
   ]
  },
  {
   "cell_type": "code",
   "execution_count": 15,
   "metadata": {},
   "outputs": [],
   "source": [
    "# Adding the second hidden layer:\n",
    "classifier.add(Dense(units = 6, kernel_initializer = 'he_uniform', activation = 'relu'))"
   ]
  },
  {
   "cell_type": "code",
   "execution_count": 16,
   "metadata": {},
   "outputs": [],
   "source": [
    "# Adding the output layer:\n",
    "classifier.add(Dense(units = 1, kernel_initializer = 'glorot_uniform', activation = 'sigmoid'))"
   ]
  },
  {
   "cell_type": "code",
   "execution_count": 17,
   "metadata": {},
   "outputs": [],
   "source": [
    "# Compiling the ANN:\n",
    "classifier.compile(optimizer = 'adam', loss = 'binary_crossentropy', metrics = ['accuracy']) # For binary classification problems, \n",
    "                                                                                             # it's preferrable to use binary-crossentropy."
   ]
  },
  {
   "cell_type": "code",
   "execution_count": 18,
   "metadata": {},
   "outputs": [
    {
     "name": "stdout",
     "output_type": "stream",
     "text": [
      "Epoch 1/100\n",
      "536/536 [==============================] - 1s 1ms/step - loss: 0.5251 - accuracy: 0.7912 - val_loss: 0.4735 - val_accuracy: 0.8020\n",
      "Epoch 2/100\n",
      "536/536 [==============================] - 0s 819us/step - loss: 0.4667 - accuracy: 0.8050 - val_loss: 0.4480 - val_accuracy: 0.8084\n",
      "Epoch 3/100\n",
      "536/536 [==============================] - 0s 805us/step - loss: 0.4435 - accuracy: 0.8115 - val_loss: 0.4353 - val_accuracy: 0.8084\n",
      "Epoch 4/100\n",
      "536/536 [==============================] - 0s 791us/step - loss: 0.4300 - accuracy: 0.8136 - val_loss: 0.4217 - val_accuracy: 0.8103\n",
      "Epoch 5/100\n",
      "536/536 [==============================] - 0s 800us/step - loss: 0.4173 - accuracy: 0.8151 - val_loss: 0.4106 - val_accuracy: 0.8118\n",
      "Epoch 6/100\n",
      "536/536 [==============================] - 0s 865us/step - loss: 0.4043 - accuracy: 0.8268 - val_loss: 0.3936 - val_accuracy: 0.8232\n",
      "Epoch 7/100\n",
      "536/536 [==============================] - 0s 831us/step - loss: 0.3902 - accuracy: 0.8377 - val_loss: 0.3814 - val_accuracy: 0.8345\n",
      "Epoch 8/100\n",
      "536/536 [==============================] - 0s 819us/step - loss: 0.3791 - accuracy: 0.8479 - val_loss: 0.3728 - val_accuracy: 0.8395\n",
      "Epoch 9/100\n",
      "536/536 [==============================] - 0s 809us/step - loss: 0.3707 - accuracy: 0.8545 - val_loss: 0.3667 - val_accuracy: 0.8432\n",
      "Epoch 10/100\n",
      "536/536 [==============================] - 0s 814us/step - loss: 0.3641 - accuracy: 0.8548 - val_loss: 0.3613 - val_accuracy: 0.8497\n",
      "Epoch 11/100\n",
      "536/536 [==============================] - 1s 948us/step - loss: 0.3589 - accuracy: 0.8604 - val_loss: 0.3589 - val_accuracy: 0.8497\n",
      "Epoch 12/100\n",
      "536/536 [==============================] - 1s 1ms/step - loss: 0.3553 - accuracy: 0.8582 - val_loss: 0.3561 - val_accuracy: 0.8501\n",
      "Epoch 13/100\n",
      "536/536 [==============================] - 1s 999us/step - loss: 0.3529 - accuracy: 0.8591 - val_loss: 0.3550 - val_accuracy: 0.8485\n",
      "Epoch 14/100\n",
      "536/536 [==============================] - 1s 998us/step - loss: 0.3504 - accuracy: 0.8591 - val_loss: 0.3525 - val_accuracy: 0.8493\n",
      "Epoch 15/100\n",
      "536/536 [==============================] - 1s 966us/step - loss: 0.3476 - accuracy: 0.8612 - val_loss: 0.3531 - val_accuracy: 0.8512\n",
      "Epoch 16/100\n",
      "536/536 [==============================] - 0s 874us/step - loss: 0.3460 - accuracy: 0.8589 - val_loss: 0.3517 - val_accuracy: 0.8516\n",
      "Epoch 17/100\n",
      "536/536 [==============================] - 0s 751us/step - loss: 0.3443 - accuracy: 0.8604 - val_loss: 0.3509 - val_accuracy: 0.8519\n",
      "Epoch 18/100\n",
      "536/536 [==============================] - 0s 821us/step - loss: 0.3429 - accuracy: 0.8600 - val_loss: 0.3507 - val_accuracy: 0.8531\n",
      "Epoch 19/100\n",
      "536/536 [==============================] - 0s 811us/step - loss: 0.3423 - accuracy: 0.8612 - val_loss: 0.3502 - val_accuracy: 0.8516\n",
      "Epoch 20/100\n",
      "536/536 [==============================] - 0s 782us/step - loss: 0.3413 - accuracy: 0.8606 - val_loss: 0.3499 - val_accuracy: 0.8512\n",
      "Epoch 21/100\n",
      "536/536 [==============================] - 0s 870us/step - loss: 0.3407 - accuracy: 0.8614 - val_loss: 0.3493 - val_accuracy: 0.8516\n",
      "Epoch 22/100\n",
      "536/536 [==============================] - 0s 848us/step - loss: 0.3405 - accuracy: 0.8615 - val_loss: 0.3485 - val_accuracy: 0.8527\n",
      "Epoch 23/100\n",
      "536/536 [==============================] - 0s 820us/step - loss: 0.3399 - accuracy: 0.8610 - val_loss: 0.3489 - val_accuracy: 0.8501\n",
      "Epoch 24/100\n",
      "536/536 [==============================] - 0s 906us/step - loss: 0.3396 - accuracy: 0.8623 - val_loss: 0.3492 - val_accuracy: 0.8501\n",
      "Epoch 25/100\n",
      "536/536 [==============================] - 0s 868us/step - loss: 0.3382 - accuracy: 0.8619 - val_loss: 0.3489 - val_accuracy: 0.8470\n",
      "Epoch 26/100\n",
      "536/536 [==============================] - 0s 849us/step - loss: 0.3390 - accuracy: 0.8615 - val_loss: 0.3492 - val_accuracy: 0.8485\n",
      "Epoch 27/100\n",
      "536/536 [==============================] - 0s 817us/step - loss: 0.3380 - accuracy: 0.8630 - val_loss: 0.3501 - val_accuracy: 0.8519\n",
      "Epoch 28/100\n",
      "536/536 [==============================] - 0s 826us/step - loss: 0.3372 - accuracy: 0.8634 - val_loss: 0.3499 - val_accuracy: 0.8478\n",
      "Epoch 29/100\n",
      "536/536 [==============================] - 0s 824us/step - loss: 0.3375 - accuracy: 0.8628 - val_loss: 0.3512 - val_accuracy: 0.8516\n",
      "Epoch 30/100\n",
      "536/536 [==============================] - 0s 900us/step - loss: 0.3379 - accuracy: 0.8643 - val_loss: 0.3472 - val_accuracy: 0.8504\n",
      "Epoch 31/100\n",
      "536/536 [==============================] - 0s 903us/step - loss: 0.3375 - accuracy: 0.8623 - val_loss: 0.3472 - val_accuracy: 0.8527\n",
      "Epoch 32/100\n",
      "536/536 [==============================] - 0s 788us/step - loss: 0.3377 - accuracy: 0.8642 - val_loss: 0.3485 - val_accuracy: 0.8504\n",
      "Epoch 33/100\n",
      "536/536 [==============================] - 0s 792us/step - loss: 0.3369 - accuracy: 0.8636 - val_loss: 0.3488 - val_accuracy: 0.8482\n",
      "Epoch 34/100\n",
      "536/536 [==============================] - 0s 806us/step - loss: 0.3366 - accuracy: 0.8643 - val_loss: 0.3491 - val_accuracy: 0.8519\n",
      "Epoch 35/100\n",
      "536/536 [==============================] - 0s 813us/step - loss: 0.3368 - accuracy: 0.8636 - val_loss: 0.3491 - val_accuracy: 0.8535\n",
      "Epoch 36/100\n",
      "536/536 [==============================] - 0s 895us/step - loss: 0.3364 - accuracy: 0.8653 - val_loss: 0.3499 - val_accuracy: 0.8508\n",
      "Epoch 37/100\n",
      "536/536 [==============================] - 0s 846us/step - loss: 0.3366 - accuracy: 0.8642 - val_loss: 0.3502 - val_accuracy: 0.8527\n",
      "Epoch 38/100\n",
      "536/536 [==============================] - 0s 828us/step - loss: 0.3364 - accuracy: 0.8643 - val_loss: 0.3472 - val_accuracy: 0.8527\n",
      "Epoch 39/100\n",
      "536/536 [==============================] - 0s 834us/step - loss: 0.3362 - accuracy: 0.8656 - val_loss: 0.3485 - val_accuracy: 0.8519\n",
      "Epoch 40/100\n",
      "536/536 [==============================] - 0s 809us/step - loss: 0.3356 - accuracy: 0.8630 - val_loss: 0.3506 - val_accuracy: 0.8546\n",
      "Epoch 41/100\n",
      "536/536 [==============================] - 0s 825us/step - loss: 0.3362 - accuracy: 0.8617 - val_loss: 0.3499 - val_accuracy: 0.8554\n",
      "Epoch 42/100\n",
      "536/536 [==============================] - 1s 1ms/step - loss: 0.3350 - accuracy: 0.8643 - val_loss: 0.3545 - val_accuracy: 0.8527\n",
      "Epoch 43/100\n",
      "536/536 [==============================] - 1s 2ms/step - loss: 0.3353 - accuracy: 0.8664 - val_loss: 0.3473 - val_accuracy: 0.8531\n",
      "Epoch 44/100\n",
      "536/536 [==============================] - 1s 1ms/step - loss: 0.3356 - accuracy: 0.8643 - val_loss: 0.3488 - val_accuracy: 0.8538\n",
      "Epoch 45/100\n",
      "536/536 [==============================] - 1s 1ms/step - loss: 0.3352 - accuracy: 0.8623 - val_loss: 0.3480 - val_accuracy: 0.8531\n",
      "Epoch 46/100\n",
      "536/536 [==============================] - 1s 2ms/step - loss: 0.3347 - accuracy: 0.8636 - val_loss: 0.3509 - val_accuracy: 0.8554\n",
      "Epoch 47/100\n",
      "536/536 [==============================] - 1s 2ms/step - loss: 0.3357 - accuracy: 0.8619 - val_loss: 0.3486 - val_accuracy: 0.8535\n",
      "Epoch 48/100\n",
      "536/536 [==============================] - 1s 1ms/step - loss: 0.3351 - accuracy: 0.8660 - val_loss: 0.3488 - val_accuracy: 0.8508\n",
      "Epoch 49/100\n",
      "536/536 [==============================] - 1s 954us/step - loss: 0.3344 - accuracy: 0.8640 - val_loss: 0.3489 - val_accuracy: 0.8546\n",
      "Epoch 50/100\n",
      "536/536 [==============================] - 1s 945us/step - loss: 0.3343 - accuracy: 0.8651 - val_loss: 0.3519 - val_accuracy: 0.8519\n",
      "Epoch 51/100\n",
      "536/536 [==============================] - 1s 1ms/step - loss: 0.3345 - accuracy: 0.8615 - val_loss: 0.3481 - val_accuracy: 0.8523\n",
      "Epoch 52/100\n",
      "536/536 [==============================] - 1s 1ms/step - loss: 0.3347 - accuracy: 0.8627 - val_loss: 0.3515 - val_accuracy: 0.8531\n",
      "Epoch 53/100\n",
      "536/536 [==============================] - 0s 837us/step - loss: 0.3348 - accuracy: 0.8630 - val_loss: 0.3504 - val_accuracy: 0.8527\n",
      "Epoch 54/100\n",
      "536/536 [==============================] - 0s 884us/step - loss: 0.3339 - accuracy: 0.8634 - val_loss: 0.3489 - val_accuracy: 0.8531\n",
      "Epoch 55/100\n",
      "536/536 [==============================] - 0s 858us/step - loss: 0.3349 - accuracy: 0.8638 - val_loss: 0.3506 - val_accuracy: 0.8516\n",
      "Epoch 56/100\n",
      "536/536 [==============================] - 0s 838us/step - loss: 0.3344 - accuracy: 0.8623 - val_loss: 0.3490 - val_accuracy: 0.8546\n",
      "Epoch 57/100\n"
     ]
    },
    {
     "name": "stdout",
     "output_type": "stream",
     "text": [
      "536/536 [==============================] - 1s 1ms/step - loss: 0.3340 - accuracy: 0.8649 - val_loss: 0.3520 - val_accuracy: 0.8523\n",
      "Epoch 58/100\n",
      "536/536 [==============================] - 1s 2ms/step - loss: 0.3346 - accuracy: 0.8619 - val_loss: 0.3499 - val_accuracy: 0.8516\n",
      "Epoch 59/100\n",
      "536/536 [==============================] - 2s 3ms/step - loss: 0.3341 - accuracy: 0.8634 - val_loss: 0.3496 - val_accuracy: 0.8535\n",
      "Epoch 60/100\n",
      "536/536 [==============================] - 1s 3ms/step - loss: 0.3335 - accuracy: 0.8640 - val_loss: 0.3508 - val_accuracy: 0.8535\n",
      "Epoch 61/100\n",
      "536/536 [==============================] - 2s 3ms/step - loss: 0.3343 - accuracy: 0.8632 - val_loss: 0.3502 - val_accuracy: 0.8550\n",
      "Epoch 62/100\n",
      "536/536 [==============================] - 1s 3ms/step - loss: 0.3333 - accuracy: 0.8625 - val_loss: 0.3478 - val_accuracy: 0.8538\n",
      "Epoch 63/100\n",
      "536/536 [==============================] - 2s 3ms/step - loss: 0.3334 - accuracy: 0.8632 - val_loss: 0.3491 - val_accuracy: 0.8504\n",
      "Epoch 64/100\n",
      "536/536 [==============================] - 1s 3ms/step - loss: 0.3332 - accuracy: 0.8628 - val_loss: 0.3511 - val_accuracy: 0.8546\n",
      "Epoch 65/100\n",
      "536/536 [==============================] - 2s 3ms/step - loss: 0.3333 - accuracy: 0.8634 - val_loss: 0.3522 - val_accuracy: 0.8542\n",
      "Epoch 66/100\n",
      "536/536 [==============================] - 1s 3ms/step - loss: 0.3337 - accuracy: 0.8623 - val_loss: 0.3515 - val_accuracy: 0.8535\n",
      "Epoch 67/100\n",
      "536/536 [==============================] - 1s 3ms/step - loss: 0.3331 - accuracy: 0.8632 - val_loss: 0.3510 - val_accuracy: 0.8561\n",
      "Epoch 68/100\n",
      "536/536 [==============================] - 2s 3ms/step - loss: 0.3331 - accuracy: 0.8643 - val_loss: 0.3486 - val_accuracy: 0.8538\n",
      "Epoch 69/100\n",
      "536/536 [==============================] - 1s 1ms/step - loss: 0.3331 - accuracy: 0.8640 - val_loss: 0.3487 - val_accuracy: 0.8508\n",
      "Epoch 70/100\n",
      "536/536 [==============================] - 1s 2ms/step - loss: 0.3325 - accuracy: 0.8612 - val_loss: 0.3515 - val_accuracy: 0.8519\n",
      "Epoch 71/100\n",
      "536/536 [==============================] - 1s 1ms/step - loss: 0.3329 - accuracy: 0.8653 - val_loss: 0.3503 - val_accuracy: 0.8519\n",
      "Epoch 72/100\n",
      "536/536 [==============================] - 1s 2ms/step - loss: 0.3327 - accuracy: 0.8640 - val_loss: 0.3506 - val_accuracy: 0.8527\n",
      "Epoch 73/100\n",
      "536/536 [==============================] - 1s 1ms/step - loss: 0.3325 - accuracy: 0.8643 - val_loss: 0.3492 - val_accuracy: 0.8538\n",
      "Epoch 74/100\n",
      "536/536 [==============================] - 1s 1ms/step - loss: 0.3328 - accuracy: 0.8608 - val_loss: 0.3489 - val_accuracy: 0.8535\n",
      "Epoch 75/100\n",
      "536/536 [==============================] - 1s 1ms/step - loss: 0.3326 - accuracy: 0.8628 - val_loss: 0.3509 - val_accuracy: 0.8538\n",
      "Epoch 76/100\n",
      "536/536 [==============================] - 1s 1ms/step - loss: 0.3326 - accuracy: 0.8645 - val_loss: 0.3484 - val_accuracy: 0.8535\n",
      "Epoch 77/100\n",
      "536/536 [==============================] - 1s 3ms/step - loss: 0.3324 - accuracy: 0.8640 - val_loss: 0.3511 - val_accuracy: 0.8554\n",
      "Epoch 78/100\n",
      "536/536 [==============================] - 1s 3ms/step - loss: 0.3319 - accuracy: 0.8636 - val_loss: 0.3530 - val_accuracy: 0.8527\n",
      "Epoch 79/100\n",
      "536/536 [==============================] - 1s 3ms/step - loss: 0.3319 - accuracy: 0.8643 - val_loss: 0.3479 - val_accuracy: 0.8527\n",
      "Epoch 80/100\n",
      "536/536 [==============================] - 2s 4ms/step - loss: 0.3321 - accuracy: 0.8627 - val_loss: 0.3512 - val_accuracy: 0.8493\n",
      "Epoch 81/100\n",
      "536/536 [==============================] - 1s 2ms/step - loss: 0.3323 - accuracy: 0.8645 - val_loss: 0.3494 - val_accuracy: 0.8519\n",
      "Epoch 82/100\n",
      "536/536 [==============================] - 1s 2ms/step - loss: 0.3319 - accuracy: 0.8649 - val_loss: 0.3490 - val_accuracy: 0.8523\n",
      "Epoch 83/100\n",
      "536/536 [==============================] - 2s 3ms/step - loss: 0.3324 - accuracy: 0.8642 - val_loss: 0.3487 - val_accuracy: 0.8523\n",
      "Epoch 84/100\n",
      "536/536 [==============================] - 1s 2ms/step - loss: 0.3322 - accuracy: 0.8649 - val_loss: 0.3500 - val_accuracy: 0.8523\n",
      "Epoch 85/100\n",
      "536/536 [==============================] - 1s 2ms/step - loss: 0.3313 - accuracy: 0.8673 - val_loss: 0.3538 - val_accuracy: 0.8523\n",
      "Epoch 86/100\n",
      "536/536 [==============================] - 1s 2ms/step - loss: 0.3313 - accuracy: 0.8670 - val_loss: 0.3525 - val_accuracy: 0.8535\n",
      "Epoch 87/100\n",
      "536/536 [==============================] - 1s 2ms/step - loss: 0.3315 - accuracy: 0.8651 - val_loss: 0.3546 - val_accuracy: 0.8554\n",
      "Epoch 88/100\n",
      "536/536 [==============================] - 1s 2ms/step - loss: 0.3319 - accuracy: 0.8666 - val_loss: 0.3501 - val_accuracy: 0.8535\n",
      "Epoch 89/100\n",
      "536/536 [==============================] - 1s 2ms/step - loss: 0.3316 - accuracy: 0.8645 - val_loss: 0.3507 - val_accuracy: 0.8523\n",
      "Epoch 90/100\n",
      "536/536 [==============================] - 1s 2ms/step - loss: 0.3313 - accuracy: 0.8675 - val_loss: 0.3501 - val_accuracy: 0.8542\n",
      "Epoch 91/100\n",
      "536/536 [==============================] - 1s 2ms/step - loss: 0.3314 - accuracy: 0.8645 - val_loss: 0.3518 - val_accuracy: 0.8519\n",
      "Epoch 92/100\n",
      "536/536 [==============================] - 1s 2ms/step - loss: 0.3317 - accuracy: 0.8649 - val_loss: 0.3510 - val_accuracy: 0.8501\n",
      "Epoch 93/100\n",
      "536/536 [==============================] - 1s 3ms/step - loss: 0.3312 - accuracy: 0.8670 - val_loss: 0.3518 - val_accuracy: 0.8523\n",
      "Epoch 94/100\n",
      "536/536 [==============================] - 1s 2ms/step - loss: 0.3306 - accuracy: 0.8664 - val_loss: 0.3513 - val_accuracy: 0.8535\n",
      "Epoch 95/100\n",
      "536/536 [==============================] - 1s 1ms/step - loss: 0.3308 - accuracy: 0.8668 - val_loss: 0.3513 - val_accuracy: 0.8508\n",
      "Epoch 96/100\n",
      "536/536 [==============================] - 1s 2ms/step - loss: 0.3306 - accuracy: 0.8655 - val_loss: 0.3508 - val_accuracy: 0.8504\n",
      "Epoch 97/100\n",
      "536/536 [==============================] - 1s 1ms/step - loss: 0.3302 - accuracy: 0.8673 - val_loss: 0.3518 - val_accuracy: 0.8527\n",
      "Epoch 98/100\n",
      "536/536 [==============================] - 1s 1ms/step - loss: 0.3313 - accuracy: 0.8656 - val_loss: 0.3497 - val_accuracy: 0.8542\n",
      "Epoch 99/100\n",
      "536/536 [==============================] - 1s 1ms/step - loss: 0.3307 - accuracy: 0.8653 - val_loss: 0.3489 - val_accuracy: 0.8542\n",
      "Epoch 100/100\n",
      "536/536 [==============================] - 1s 2ms/step - loss: 0.3306 - accuracy: 0.8645 - val_loss: 0.3523 - val_accuracy: 0.8523\n"
     ]
    }
   ],
   "source": [
    "# Fitting the ANN to the training set:\n",
    "modelHistory = classifier.fit(X_train, y_train, validation_split=0.33, batch_size=10, epochs=100)"
   ]
  },
  {
   "cell_type": "code",
   "execution_count": 19,
   "metadata": {},
   "outputs": [],
   "source": [
    "# Making Predictions:\n",
    "yPredictions = classifier.predict(X_test)\n",
    "yPredictions = (yPredictions > 0.5)"
   ]
  },
  {
   "cell_type": "code",
   "execution_count": 20,
   "metadata": {},
   "outputs": [],
   "source": [
    "from sklearn.metrics import confusion_matrix, classification_report"
   ]
  },
  {
   "cell_type": "code",
   "execution_count": 21,
   "metadata": {},
   "outputs": [
    {
     "name": "stdout",
     "output_type": "stream",
     "text": [
      "              precision    recall  f1-score   support\n",
      "\n",
      "           0       0.88      0.96      0.92      1577\n",
      "           1       0.79      0.51      0.62       423\n",
      "\n",
      "    accuracy                           0.87      2000\n",
      "   macro avg       0.84      0.74      0.77      2000\n",
      "weighted avg       0.86      0.87      0.86      2000\n",
      "\n",
      "[[1520   57]\n",
      " [ 206  217]]\n"
     ]
    }
   ],
   "source": [
    "print(classification_report(y_test, yPredictions))\n",
    "print(confusion_matrix(y_test, yPredictions))"
   ]
  },
  {
   "cell_type": "markdown",
   "metadata": {},
   "source": [
    "### Printing the metrics regarding Deep Learning:"
   ]
  },
  {
   "cell_type": "code",
   "execution_count": 22,
   "metadata": {},
   "outputs": [
    {
     "name": "stdout",
     "output_type": "stream",
     "text": [
      "dict_keys(['loss', 'accuracy', 'val_loss', 'val_accuracy'])\n"
     ]
    }
   ],
   "source": [
    "print(modelHistory.history.keys())"
   ]
  },
  {
   "cell_type": "code",
   "execution_count": 24,
   "metadata": {},
   "outputs": [
    {
     "data": {
      "text/plain": [
       "[<matplotlib.lines.Line2D at 0x7f84185abe80>]"
      ]
     },
     "execution_count": 24,
     "metadata": {},
     "output_type": "execute_result"
    },
    {
     "data": {
      "image/png": "[encoded data removed]",
      "text/plain": [
       "<Figure size 432x288 with 1 Axes>"
      ]
     },
     "metadata": {
      "needs_background": "light"
     },
     "output_type": "display_data"
    }
   ],
   "source": [
    "# Plot showing the accuracy after each epoc:\n",
    "plt.plot(modelHistory.history['accuracy'])"
   ]
  },
  {
   "cell_type": "code",
   "execution_count": 25,
   "metadata": {},
   "outputs": [
    {
     "data": {
      "text/plain": [
       "[<matplotlib.lines.Line2D at 0x7f84107cd850>]"
      ]
     },
     "execution_count": 25,
     "metadata": {},
     "output_type": "execute_result"
    },
    {
     "data": {
      "image/png": "[encoded data removed]",
      "text/plain": [
       "<Figure size 432x288 with 1 Axes>"
      ]
     },
     "metadata": {
      "needs_background": "light"
     },
     "output_type": "display_data"
    }
   ],
   "source": [
    "# Plot showing the accuracy of validation set:\n",
    "plt.plot(modelHistory.history['val_accuracy'])"
   ]
  },
  {
   "cell_type": "code",
   "execution_count": 29,
   "metadata": {},
   "outputs": [
    {
     "data": {
      "text/plain": [
       "[<matplotlib.lines.Line2D at 0x7f8409ecf7f0>]"
      ]
     },
     "execution_count": 29,
     "metadata": {},
     "output_type": "execute_result"
    },
    {
     "data": {
      "image/png": "[encoded data removed]",
      "text/plain": [
       "<Figure size 432x288 with 1 Axes>"
      ]
     },
     "metadata": {
      "needs_background": "light"
     },
     "output_type": "display_data"
    }
   ],
   "source": [
    "# Plot showing loss after each epoc:\n",
    "plt.plot(modelHistory.history['loss'])"
   ]
  },
  {
   "cell_type": "code",
   "execution_count": 30,
   "metadata": {},
   "outputs": [
    {
     "data": {
      "text/plain": [
       "[<matplotlib.lines.Line2D at 0x7f841849d130>]"
      ]
     },
     "execution_count": 30,
     "metadata": {},
     "output_type": "execute_result"
    },
    {
     "data": {
      "image/png": "[encoded data removed]",
      "text/plain": [
       "<Figure size 432x288 with 1 Axes>"
      ]
     },
     "metadata": {
      "needs_background": "light"
     },
     "output_type": "display_data"
    }
   ],
   "source": [
    "# Plot showing Validation loss after each epoc:\n",
    "plt.plot(modelHistory.history['val_loss'])"
   ]
  },
  {
   "cell_type": "code",
   "execution_count": null,
   "metadata": {},
   "outputs": [],
   "source": []
  }
 ],
 "metadata": {
  "kernelspec": {
   "display_name": "Python 3",
   "language": "python",
   "name": "python3"
  },
  "language_info": {
   "codemirror_mode": {
    "name": "ipython",
    "version": 3
   },
   "file_extension": ".py",
   "mimetype": "text/x-python",
   "name": "python",
   "nbconvert_exporter": "python",
   "pygments_lexer": "ipython3",
   "version": "3.8.3"
  }
 },
 "nbformat": 4,
 "nbformat_minor": 4
}
